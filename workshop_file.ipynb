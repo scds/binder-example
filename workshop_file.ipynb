{
  "nbformat": 4,
  "nbformat_minor": 0,
  "metadata": {
    "colab": {
      "private_outputs": true,
      "provenance": [],
      "collapsed_sections": []
    },
    "kernelspec": {
      "name": "python3",
      "display_name": "Python 3"
    },
    "language_info": {
      "name": "python"
    }
  },
  "cells": [
    {
      "cell_type": "markdown",
      "source": [
        "# Intermediate Python programming"
      ],
      "metadata": {
        "id": "giGMLog_5c2y"
      }
    },
    {
      "cell_type": "markdown",
      "source": [
        "A notebook like this one consists of cells that contain either text (such as this cell) or code (such as the next cell). To progress to the next cell, running any code along the way, press shift + enter:"
      ],
      "metadata": {
        "id": "kYVa6dHMdHco"
      }
    },
    {
      "cell_type": "code",
      "source": [
        "print('hello world!')"
      ],
      "metadata": {
        "id": "EUo3_fX8dUlk"
      },
      "execution_count": null,
      "outputs": []
    },
    {
      "cell_type": "markdown",
      "source": [
        "## Numbers and arithmetic"
      ],
      "metadata": {
        "id": "Q5r2knLJDfOu"
      }
    },
    {
      "cell_type": "markdown",
      "source": [
        "We can create numerical variables and apply arithmetic operations to them:"
      ],
      "metadata": {
        "id": "A6eKfMkJeAfh"
      }
    },
    {
      "cell_type": "code",
      "source": [
        "x = 1\n",
        "# arithmetic operations\n",
        "print(x + 1) # addition\n",
        "print(x - 1) # subtraction\n",
        "print(x * 2) # multiplication\n",
        "print(x / 2) # division\n",
        "print(x ** 2) # exponentiation (note: not x^2)\n",
        "print(1 / (2 - 0.5)) # BEDMAS rules"
      ],
      "metadata": {
        "id": "zlZ1FjC05lfA"
      },
      "execution_count": null,
      "outputs": []
    },
    {
      "cell_type": "markdown",
      "source": [
        "You can add `=` onto the end of any of these arithmetic operators to overwrite a variable's value with their result.\n",
        "\n",
        "I.e., `x ☐= y` is the same as `x = x ☐ y`. E.g.:"
      ],
      "metadata": {
        "id": "gQ0a9Zkzd5gf"
      }
    },
    {
      "cell_type": "code",
      "source": [
        "x = 2\n",
        "x *= 3\n",
        "print(x)\n",
        "x -= 1\n",
        "print(x)\n",
        "x **= 2\n",
        "print(x)"
      ],
      "metadata": {
        "id": "gR8Rd5fQ68E9"
      },
      "execution_count": null,
      "outputs": []
    },
    {
      "cell_type": "markdown",
      "source": [
        "## Strings (text)"
      ],
      "metadata": {
        "id": "x0IDiP3N6maU"
      }
    },
    {
      "cell_type": "markdown",
      "source": [
        "Python uses single or double quotes to store text information in **strings**:"
      ],
      "metadata": {
        "id": "e8gKlEcAeroR"
      }
    },
    {
      "cell_type": "code",
      "source": [
        "# Single vs double quotes:\n",
        "greeting = \"hello\"\n",
        "greeting = 'hello'\n",
        "\n",
        "# Quotes to define a string vs quotes in a string:\n",
        "sentence = 'He says \"hello\"'\n",
        "sentence = \"I'm busy now\"\n",
        "# Backslash to use quote in a string:\n",
        "sentence = 'He says \"hello, I\\'m busy now\"'\n",
        "print(sentence)\n",
        "\n",
        "# Combining text:\n",
        "new_text = 'a' + 'b'\n",
        "print(new_text)"
      ],
      "metadata": {
        "id": "XyrkUEz_6oQ0"
      },
      "execution_count": null,
      "outputs": []
    },
    {
      "cell_type": "markdown",
      "source": [
        "## Booleans (true/false values)"
      ],
      "metadata": {
        "id": "oGYe7s9X6teg"
      }
    },
    {
      "cell_type": "markdown",
      "source": [
        "True and false values called **Booleans** result from comparisons:"
      ],
      "metadata": {
        "id": "ss_l4-9LfZ91"
      }
    },
    {
      "cell_type": "code",
      "source": [
        "# Booleans result from comparisons\n",
        "x = 2\n",
        "y = 3\n",
        "print(x < y)\n",
        "print(x <= y)\n",
        "print(x > y)\n",
        "print(x >= y)\n",
        "print(x == y) # Note: not x = y, which is for variable assignment\n",
        "print(x != y)\n",
        "print(x < y < 4) # chained comparison---this tests x < y and y < 4\n",
        "print('abc' == 'abc') # Not just numbers!"
      ],
      "metadata": {
        "id": "DPVl12gk6wVx"
      },
      "execution_count": null,
      "outputs": []
    },
    {
      "cell_type": "markdown",
      "source": [
        "Like the arithmetic operators we can apply to numbers, there are Boolean operators we can apply to Booleans:"
      ],
      "metadata": {
        "id": "E3V1-TchfqZJ"
      }
    },
    {
      "cell_type": "code",
      "source": [
        "# Boolean operators\n",
        "bool1 = False\n",
        "bool2 = True\n",
        "print(bool1 and bool2)\n",
        "print(bool1 or bool2)\n",
        "print(not bool2)"
      ],
      "metadata": {
        "id": "J3i0gxkF64nr"
      },
      "execution_count": null,
      "outputs": []
    },
    {
      "cell_type": "markdown",
      "source": [
        "Also as with arithmetic operators, Boolean operators have an order of operations. To illustrate this, let's imagine a situation where we can publish our paper if the journal is free to publish in or we have funds for publication fees, and if we either have significant results or have preregistered our study:"
      ],
      "metadata": {
        "id": "TS71iAbK7i6k"
      }
    },
    {
      "cell_type": "code",
      "source": [
        "# Publication example\n",
        "free = True # The journal has no fee\n",
        "funds = False # We have have no funds\n",
        "signif = False # Our results are not significant\n",
        "prereg = False # Our study was not preregistered\n",
        "\n",
        "can_publish = free or funds and signif or prereg\n",
        "print(can_publish) # !!"
      ],
      "metadata": {
        "id": "cdhtZOqn7fWF"
      },
      "execution_count": null,
      "outputs": []
    },
    {
      "cell_type": "markdown",
      "source": [
        "That can't be right---we don't have significant results and didn't preregister our study. The reason we're getting the wrong answer is that `and` takes precedence over `or`. I.e., what's really being evaluated is `funds or (waive and signif) or prereg`."
      ],
      "metadata": {
        "id": "nFN2cSIm7mC3"
      }
    },
    {
      "cell_type": "code",
      "source": [
        "can_publish = (free or funds) and (signif or prereg)\n",
        "print(can_publish)"
      ],
      "metadata": {
        "id": "sRtbudeJ7oJz"
      },
      "execution_count": null,
      "outputs": []
    },
    {
      "cell_type": "markdown",
      "source": [
        "## Collections (lists and dictionaries)"
      ],
      "metadata": {
        "id": "SJkm5oiS7vZh"
      }
    },
    {
      "cell_type": "markdown",
      "source": [
        "We can collect multiple pieces of data into collections, organizing them either so that they have a serial order (in a `list`) or so that they are each associated with a different name (in a `dict`, or **dictionary**):"
      ],
      "metadata": {
        "id": "Y3bY7slriYrZ"
      }
    },
    {
      "cell_type": "code",
      "source": [
        "# Create a list to store values in an ordered sequence:\n",
        "my_list = [1, 2, 3, 4, 5, 6, 7]\n",
        "# Create a dict to associate each value with a name:\n",
        "my_dict = {'first': 1, 'second': 2, 'third': 3}\n",
        "\n",
        "# We can then access the stored values either by their serial position:\n",
        "print(my_list[0]) # !!\n",
        "# Or by their name:\n",
        "print(my_dict['second'])"
      ],
      "metadata": {
        "id": "MDOjTkT87ye7"
      },
      "execution_count": null,
      "outputs": []
    },
    {
      "cell_type": "markdown",
      "source": [
        "We can access multiple items in a list at a time using **list slicing**. The general notation is:\n",
        "\n",
        "`listname[start:stop:step]`\n",
        "\n",
        "- Start with the `start`th value (if omitted, start at the very beginning)\n",
        "- Stop short of the `stop`th value (if omitted, don't stop anywhere)\n",
        "- Move forward in the list by `step` each time (if omitted, move forward by 1)"
      ],
      "metadata": {
        "id": "VeaCRfL278MX"
      }
    },
    {
      "cell_type": "code",
      "source": [
        "print(my_list[0:5:2])\n",
        "print(my_list[:5:2])\n",
        "print(my_list[::2])"
      ],
      "metadata": {
        "id": "HPJLAL6m70Nt"
      },
      "execution_count": null,
      "outputs": []
    },
    {
      "cell_type": "markdown",
      "source": [
        "## Conditionals"
      ],
      "metadata": {
        "id": "yuTxYwpI8OGj"
      }
    },
    {
      "cell_type": "markdown",
      "source": [
        "**Conditional statements** allow us to only run certain pieces of code if certain conditions hold---that is, if certain tests return the value `True`:"
      ],
      "metadata": {
        "id": "_pbv7ivOkUre"
      }
    },
    {
      "cell_type": "code",
      "source": [
        "# Imaginary p value example\n",
        "p = 0.009\n",
        "\n",
        "if p < 0.001:\n",
        "\tprint('our results are very significant')\n",
        "elif p < 0.01:\n",
        "\tprint('our results are significant')\n",
        "elif p < 0.05:\n",
        "\tprint('our results are technically significant')\n",
        "else:\n",
        "\tprint('our results are not significant')"
      ],
      "metadata": {
        "id": "IKr4W7xr8P7j"
      },
      "execution_count": null,
      "outputs": []
    },
    {
      "cell_type": "markdown",
      "source": [
        "`elif` and `else` clauses are linked to the previous `if` and `elif`s. Compare to:"
      ],
      "metadata": {
        "id": "aGEM3zTd8Sco"
      }
    },
    {
      "cell_type": "code",
      "source": [
        "if p < 0.01:\n",
        "\tprint('our results are significant')\n",
        "if p < 0.05:\n",
        "\tprint('our results are technically significant')"
      ],
      "metadata": {
        "id": "OLEHodCG8Ulo"
      },
      "execution_count": null,
      "outputs": []
    },
    {
      "cell_type": "markdown",
      "source": [
        "## `while` loops"
      ],
      "metadata": {
        "id": "T4Vi06ro8WCy"
      }
    },
    {
      "cell_type": "markdown",
      "source": [
        "**Loops** allow you to run the same piece of code many times, often with the value of some variable being different on each loop iteration. `while` loops repeat the same piece of code for a long as some condition remains `True`:"
      ],
      "metadata": {
        "id": "DLBQv-fxmxwZ"
      }
    },
    {
      "cell_type": "code",
      "source": [
        "x = 0\n",
        "while x < 10:\n",
        "\tx += 1\n",
        "\tprint(x) # Note that x does reach 10"
      ],
      "metadata": {
        "id": "TeUSz8598X8O"
      },
      "execution_count": null,
      "outputs": []
    },
    {
      "cell_type": "markdown",
      "source": [
        "We can use a `break` statement to force a `while` loop to stop before its condition becomes false"
      ],
      "metadata": {
        "id": "NyvuyaRo8Z0G"
      }
    },
    {
      "cell_type": "code",
      "source": [
        "x = 0\n",
        "while x < 10:\n",
        "\tx += 1\n",
        "\tprint(x)\n",
        "\tif x == 5:\n",
        "\t\tprint('ending the loop now')\n",
        "\t\tbreak"
      ],
      "metadata": {
        "id": "OMmLFaZ48cpJ"
      },
      "execution_count": null,
      "outputs": []
    },
    {
      "cell_type": "markdown",
      "source": [
        "## `for` loops"
      ],
      "metadata": {
        "id": "c7dtBfuF8_eR"
      }
    },
    {
      "cell_type": "markdown",
      "source": [
        "Loops are linked to a sequence of values:"
      ],
      "metadata": {
        "id": "emdVJQwz9FLS"
      }
    },
    {
      "cell_type": "code",
      "source": [
        "numbers = [1, 2, 3]\n",
        "# print each item in the above list:\n",
        "idx = 0\n",
        "while idx < len(numbers):\n",
        "\tcurr_number = numbers[idx]\n",
        "\tprint(curr_number)\n",
        "\tidx += 1"
      ],
      "metadata": {
        "id": "teCbEUWl8oLR"
      },
      "execution_count": null,
      "outputs": []
    },
    {
      "cell_type": "markdown",
      "source": [
        "A more concrete example:\n",
        "\n",
        "```python\n",
        "files = ['file1.ext', 'file2.ext', 'file3.ext']\n",
        "file_idx = 0\n",
        "while file_idx < len(files):\n",
        "\tcurr_file = files[file_idx]\n",
        "\tload_and_process(curr_file)\n",
        "\tfile_idx += 1\n",
        "```"
      ],
      "metadata": {
        "id": "s45uWh3T9Hzf"
      }
    },
    {
      "cell_type": "markdown",
      "source": [
        "`for` loops give us a succinct notation for achieving the same effect:"
      ],
      "metadata": {
        "id": "fbunO5VA9Qyy"
      }
    },
    {
      "cell_type": "code",
      "source": [
        "numbers = [1, 2, 3]\n",
        "for curr_number in numbers:\n",
        "\tprint(curr_number)"
      ],
      "metadata": {
        "id": "9F8DFBQv9JHG"
      },
      "execution_count": null,
      "outputs": []
    },
    {
      "cell_type": "markdown",
      "source": [
        "Similarly:\n",
        "\n",
        "```python\n",
        "files = ['file1.ext', 'file2.ext', 'file3.ext']\n",
        "for curr_file in files:\n",
        "\tload_and_process(curr_file)\n",
        "```\n",
        "\n",
        "Now we don't have to worry about creating and iterating an index variable!"
      ],
      "metadata": {
        "id": "6TDR-cep9K8y"
      }
    },
    {
      "cell_type": "markdown",
      "source": [
        "You may also want to create a for loop that still uses an index. For this, the `range()` function is great:"
      ],
      "metadata": {
        "id": "gmzznd_X9lT7"
      }
    },
    {
      "cell_type": "code",
      "source": [
        "xs = [1, 2, 3]\n",
        "for idx in range(len(xs)):\n",
        "  x = xs[idx]\n",
        "  print(idx, x**2)"
      ],
      "metadata": {
        "id": "6HP8xJXw9nxU"
      },
      "execution_count": null,
      "outputs": []
    },
    {
      "cell_type": "markdown",
      "source": [
        "E.g.:\n",
        "\n",
        "```python\n",
        "files = ['file1.ext', 'file2.ext', 'file3.ext']\n",
        "while file_idx in range(len(files)):\n",
        "\tcurr_file = files[file_idx]\n",
        "\tprint('Processing file ' + str(file_idx))\n",
        "\tload_and_process(curr_file)\n",
        "```"
      ],
      "metadata": {
        "id": "mo6t4O0Q9qH8"
      }
    },
    {
      "cell_type": "markdown",
      "source": [
        "Tip: if you find yourself creating numbered variable names like `x1`, `x2`, `x3`, it's a sure sign that you could save yourself a lot of time by putting their values in a list and creating a `for` loop:"
      ],
      "metadata": {
        "id": "ufyYpnkGqVZe"
      }
    },
    {
      "cell_type": "code",
      "source": [
        "x1 = 1\n",
        "x2 = 2\n",
        "x3 = 3\n",
        "print(x1**2)\n",
        "print(x2**2)\n",
        "print(x3**2)\n",
        "\n",
        "# vs\n",
        "\n",
        "xs = [1, 2, 3]\n",
        "for x in xs:\n",
        "\tprint(x**2)"
      ],
      "metadata": {
        "id": "bUFJNffA9dFL"
      },
      "execution_count": null,
      "outputs": []
    },
    {
      "cell_type": "markdown",
      "source": [
        "## Functions\n",
        "A **function** is a little set of instructions that you can refer to by name. They usually take inputs (or **arguments**) and perform some operations on them to produce outputs.\n",
        "\n",
        "The general notation for **defining** a function is as follows:\n",
        "\n",
        "```python\n",
        "def <function name>(<inputs>):\n",
        "  <code>\n",
        "  return <outputs>\n",
        "```\n",
        "\n",
        "For example:"
      ],
      "metadata": {
        "id": "vr7h8NjC-FfR"
      }
    },
    {
      "cell_type": "code",
      "source": [
        "def double_it(x):\n",
        "  y = x * 2\n",
        "  return y"
      ],
      "metadata": {
        "id": "53Fbp0k__90L"
      },
      "execution_count": null,
      "outputs": []
    },
    {
      "cell_type": "code",
      "source": [
        "print(double_it(4))"
      ],
      "metadata": {
        "id": "-FPTPKpvrmT9"
      },
      "execution_count": null,
      "outputs": []
    },
    {
      "cell_type": "markdown",
      "source": [
        "Functions can take more than one input and return more than one output:"
      ],
      "metadata": {
        "id": "LUGRPcnuARNS"
      }
    },
    {
      "cell_type": "code",
      "source": [
        "def double_both(in1, in2):\n",
        "  out1 = double_it(in1)\n",
        "  out2 = double_it(in2)\n",
        "  return out1, out2"
      ],
      "metadata": {
        "id": "2j5j36shATcK"
      },
      "execution_count": null,
      "outputs": []
    },
    {
      "cell_type": "code",
      "source": [
        "x, y = double_both(2, 3)\n",
        "print(x)\n",
        "print(y)"
      ],
      "metadata": {
        "id": "51Lvafy5rq9b"
      },
      "execution_count": null,
      "outputs": []
    },
    {
      "cell_type": "markdown",
      "source": [
        "Inputs can also be provided by name, in case you forget the default order:"
      ],
      "metadata": {
        "id": "BxnPIDx8CDmY"
      }
    },
    {
      "cell_type": "code",
      "source": [
        "def kumaraswamy_density(x, a, b):\n",
        "  return a*b*x**(a-1) * (1-x**a)**(b-1)\n",
        "\n",
        "print(kumaraswamy_density(0.5, 3, 2))\n",
        "\n",
        "print(kumaraswamy_density(a=3, b=2, x=0.5))"
      ],
      "metadata": {
        "id": "yfr4ZkXiCLkH"
      },
      "execution_count": null,
      "outputs": []
    },
    {
      "cell_type": "markdown",
      "source": [
        "Because we're generally only interested in the final outputs of functions, any variables that aren't returned as output get deleted once the function stops executing. That is, they are **local variables** that only exist within the function (as opposed to **global variables**, which exist everywhere):"
      ],
      "metadata": {
        "id": "fYsg-MomAhiK"
      }
    },
    {
      "cell_type": "code",
      "source": [
        "def some_function():\n",
        "  loc_var = 'local variable'\n",
        "  print(loc_var)\n",
        "\n",
        "some_function()\n",
        "print(loc_var)"
      ],
      "metadata": {
        "id": "edilF809AcFM"
      },
      "execution_count": null,
      "outputs": []
    },
    {
      "cell_type": "markdown",
      "source": [
        "Bacause of this, variables inside and outside a function can have the same name without interfering with each other:"
      ],
      "metadata": {
        "id": "CoH7c85fA31q"
      }
    },
    {
      "cell_type": "code",
      "source": [
        "def create_a():\n",
        "  a = 'two'\n",
        "  print('Inside the function, a is ' + a)\n",
        "\n",
        "a = 'one'\n",
        "print(f'Prior to the function, a is ' + a) \n",
        "create_a()\n",
        "print(f'After the function, a is ' + a) "
      ],
      "metadata": {
        "id": "Pg3PihXrApEE"
      },
      "execution_count": null,
      "outputs": []
    },
    {
      "cell_type": "markdown",
      "source": [
        "## Object-oriented programming"
      ],
      "metadata": {
        "id": "cybHFxfoDQTu"
      }
    },
    {
      "cell_type": "markdown",
      "source": [
        "In Python, everything is an object. Objects have **attributes** and **methods**, which are, respectively, data and functions that are attached to them. They are accessed using dot notation:\n",
        "\n",
        "`object.attribute`\n",
        "\n",
        "or\n",
        "\n",
        "`object.method(input)`"
      ],
      "metadata": {
        "id": "oIIJ4azjAqpv"
      }
    },
    {
      "cell_type": "code",
      "source": [
        "x = [1, 2, 3]\n",
        "x.append(4) # append() is a method of the \"list\" class\n",
        "print(x)"
      ],
      "metadata": {
        "id": "0bKTMbliAqDx"
      },
      "execution_count": null,
      "outputs": []
    },
    {
      "cell_type": "markdown",
      "source": [
        "You can create your own **classes** of objects with custom methods and attributes:"
      ],
      "metadata": {
        "id": "hlJDfElRC9kg"
      }
    },
    {
      "cell_type": "code",
      "source": [
        "class Participant():\n",
        "  def __init__(self, ID, age):\n",
        "    # Create \"ID\" and \"age\" attributes:\n",
        "    self.ID = ID\n",
        "    self.age = age\n",
        "  def print_info(self): # Defines a method\n",
        "    print('ID', self.ID)\n",
        "    print('age', self.age)"
      ],
      "metadata": {
        "id": "FI0S9UbwA7Sh"
      },
      "execution_count": null,
      "outputs": []
    },
    {
      "cell_type": "code",
      "source": [
        "p1 = Participant(ID = '181720', age = 23)\n",
        "print(p1.ID) # Access the ID attribute\n",
        "p1.print_info() # Call the print_info method"
      ],
      "metadata": {
        "id": "V5TZLdVEBmUq"
      },
      "execution_count": null,
      "outputs": []
    },
    {
      "cell_type": "markdown",
      "source": [
        "It's unlikely that you'll need to create your own classes in the course of ordinary research. However, because you probably *will* end up using libraries written by someone else, it's worth understanding a little bit about how the classes defined by these libraries work."
      ],
      "metadata": {
        "id": "Oj-sbnl6El4K"
      }
    },
    {
      "cell_type": "markdown",
      "source": [
        "**Note to self: give the certificate code**"
      ],
      "metadata": {
        "id": "Yw_j3DhoahXI"
      }
    },
    {
      "cell_type": "markdown",
      "source": [
        "## Important science libraries in Python"
      ],
      "metadata": {
        "id": "tTxvU8xAE1PW"
      }
    },
    {
      "cell_type": "markdown",
      "source": [
        "### Importing libraries"
      ],
      "metadata": {
        "id": "isY0gekpE4ql"
      }
    },
    {
      "cell_type": "code",
      "source": [
        "import random\n",
        "\n",
        "for i in range(5):\n",
        "  print(random.gauss(0, 1))"
      ],
      "metadata": {
        "id": "S4pMXhEeBqCc"
      },
      "execution_count": null,
      "outputs": []
    },
    {
      "cell_type": "markdown",
      "metadata": {
        "id": "ZqEn6g2mw3uz"
      },
      "source": [
        "### The `math` library"
      ]
    },
    {
      "cell_type": "markdown",
      "metadata": {
        "id": "B6-Cb-SmyfFP"
      },
      "source": [
        "Python's `math` library defines a number of useful mathematical functions. Let's see a few:"
      ]
    },
    {
      "cell_type": "code",
      "metadata": {
        "id": "Di_PGuhU0FfV"
      },
      "source": [
        "import math as m\n",
        "\n",
        "print(m.exp(1)) # e^x, where e is Euler's number\n",
        "print(m.sqrt(2)) # square root\n",
        "print(m.log(8, 2)) # logarithm (second argument is base; default base is e)\n",
        "print(m.sin(m.pi/2)) # sin and pi\n",
        "print(m.e)\n",
        "print(m.ceil(0.2)) # round up (\"ceiling\")"
      ],
      "execution_count": null,
      "outputs": []
    },
    {
      "cell_type": "markdown",
      "metadata": {
        "id": "UAEzQDkX0Nkk"
      },
      "source": [
        "### The `random` library"
      ]
    },
    {
      "cell_type": "code",
      "metadata": {
        "id": "-CVRiG9g-wkr"
      },
      "source": [
        "import random\n",
        "\n",
        "print(random.random()) # Uniform distribution between 0 and 1\n",
        "print(random.gauss(mu = 0, sigma = 1)) # Standard normal distribution\n",
        "\n",
        "random.seed(1) # \"Seed\" the random number generator so that it will produce the same sequence of results\n",
        "print(random.random())\n",
        "print(random.gauss(mu = 0, sigma = 1))\n",
        "\n",
        "# Re-seed the random number generator and draw two more samples. They'll be the same if the seed is the same\n",
        "random.seed(1)\n",
        "print(random.random())\n",
        "print(random.gauss(mu = 0, sigma = 1))"
      ],
      "execution_count": null,
      "outputs": []
    },
    {
      "cell_type": "markdown",
      "source": [
        "### Matplotlib"
      ],
      "metadata": {
        "id": "4z4iu6_yIeFH"
      }
    },
    {
      "cell_type": "markdown",
      "source": [
        "To generate plots in notebooks like this one, you have to run the `%matplotlib inline` command:"
      ],
      "metadata": {
        "id": "FHr2u3-pwIkG"
      }
    },
    {
      "cell_type": "code",
      "metadata": {
        "id": "IvWCuA1uI-ad"
      },
      "source": [
        "import matplotlib.pyplot as plt\n",
        "%matplotlib inline"
      ],
      "execution_count": null,
      "outputs": []
    },
    {
      "cell_type": "markdown",
      "metadata": {
        "id": "hZxH4Fn7Ku91"
      },
      "source": [
        "The `plot` and `scatter` functions both take an `x` and `y` sequence as input and produce line and scatter plots, respectively:"
      ]
    },
    {
      "cell_type": "code",
      "metadata": {
        "id": "Cjj6FPk8LHfC"
      },
      "source": [
        "# Generate some sinusoidal data\n",
        "ndata = 50\n",
        "x = [d*4*m.pi/(ndata - 1) for d in range(ndata)]\n",
        "y = [m.sin(d) for d in x]\n",
        "print(x)\n",
        "print(y)\n",
        "\n",
        "# Line plot\n",
        "plt.plot(x, y)\n",
        "plt.show()\n",
        "\n",
        "# Scatterplot\n",
        "plt.scatter(x, y)\n",
        "plt.show()"
      ],
      "execution_count": null,
      "outputs": []
    },
    {
      "cell_type": "markdown",
      "metadata": {
        "id": "f1wdjQQ1ORjP"
      },
      "source": [
        "The `hist` and `boxplot` functions both take a single sequence of numbers and display its distribution:"
      ]
    },
    {
      "cell_type": "code",
      "metadata": {
        "id": "4CmMSoaoOT6Q"
      },
      "source": [
        "# Generate some normally distributed data\n",
        "x = [random.gauss(0, 1) for i in range(1000)]\n",
        "\n",
        "plt.hist(x, 100)\n",
        "plt.show()\n",
        "\n",
        "plt.boxplot(x)\n",
        "plt.show()"
      ],
      "execution_count": null,
      "outputs": []
    },
    {
      "cell_type": "markdown",
      "metadata": {
        "id": "FvHlDKueSIxT"
      },
      "source": [
        "You can add axis labels and a title to your plots using `xlabel`, `ylabel`, and `title`:"
      ]
    },
    {
      "cell_type": "code",
      "metadata": {
        "id": "ir7TjtveSkyL"
      },
      "source": [
        "ndata = 100\n",
        "x = [random.random() for i in range(ndata)]\n",
        "y = [random.random() for i in range(ndata)]\n",
        "plt.scatter(x, y)\n",
        "plt.xlabel('My x data (units)')\n",
        "plt.ylabel('My y data (units)')\n",
        "plt.title('My data')\n",
        "plt.show()"
      ],
      "execution_count": null,
      "outputs": []
    },
    {
      "cell_type": "markdown",
      "metadata": {
        "id": "GjpPJfNR1F12"
      },
      "source": [
        "### NumPy"
      ]
    },
    {
      "cell_type": "markdown",
      "metadata": {
        "id": "2_rU-LBY1SmI"
      },
      "source": [
        "NumPy is Python's linear algebra library. Its basic data type is the **array**, which is a lot like a list except that it's stored more efficiently in the computer's memory:"
      ]
    },
    {
      "cell_type": "code",
      "metadata": {
        "id": "AWh7o7c44AJw"
      },
      "source": [
        "import numpy as np\n",
        "\n",
        "# Create a list first, then convert it to an array\n",
        "list_data = [1, 2, 3, 4, 5]\n",
        "array_data = np.array(list_data)\n",
        "print(array_data)"
      ],
      "execution_count": null,
      "outputs": []
    },
    {
      "cell_type": "markdown",
      "source": [
        "Arrays can be one-dimensional or higher-dimensional (i.e., can be vectors or matrices/tensors):"
      ],
      "metadata": {
        "id": "-W8rUNmcMVSE"
      }
    },
    {
      "cell_type": "code",
      "source": [
        "list_data = [[1, 2, 3], [4, 5, 6], [7, 8, 9]]\n",
        "array_data = np.array(list_data)\n",
        "print(array_data)"
      ],
      "metadata": {
        "id": "9QWV88a3xiDK"
      },
      "execution_count": null,
      "outputs": []
    },
    {
      "cell_type": "markdown",
      "source": [
        "Accessing elements in an array is the same as accessing elements in a list, except that when the array is multidimensional, you have to specify which elements to access across each dimension:\n",
        "\n",
        "`arrayname[<which row(s)>, <which column(s)>, <which page(s)>, ...]`"
      ],
      "metadata": {
        "id": "kvRjpa3syB4j"
      }
    },
    {
      "cell_type": "code",
      "source": [
        "print(array_data[1, 1])\n",
        "print(array_data[1:, 1:])\n",
        "print(array_data[:, 1])"
      ],
      "metadata": {
        "id": "D5pn6NDXzQ6F"
      },
      "execution_count": null,
      "outputs": []
    },
    {
      "cell_type": "markdown",
      "metadata": {
        "id": "ObEiVo7I4MCK"
      },
      "source": [
        "Math with arrays is faster than math with lists, and you can apply mathematical operations to arrays directly rather than having to apply them to each element:"
      ]
    },
    {
      "cell_type": "code",
      "metadata": {
        "id": "oe6nUE-54hpJ"
      },
      "source": [
        "print(array_data + 5)\n",
        "print(array_data * 3)\n",
        "print(array_data + array_data)\n",
        "print(np.sqrt(array_data))"
      ],
      "execution_count": null,
      "outputs": []
    },
    {
      "cell_type": "markdown",
      "metadata": {
        "id": "bwdjYlwZ86LZ"
      },
      "source": [
        "### pandas"
      ]
    },
    {
      "cell_type": "markdown",
      "metadata": {
        "id": "MU1wbvZr9B5t"
      },
      "source": [
        "pandas is a library for working with tabular data. The core object in pandas is the `DataFrame`:"
      ]
    },
    {
      "cell_type": "code",
      "metadata": {
        "id": "e5I4bg85-Kbm"
      },
      "source": [
        "import pandas as pd\n",
        "\n",
        "gcbs = pd.read_csv('https://pnb.mcmaster.ca/becker/expts/2a03/gcbs.csv')\n",
        "print(type(gcbs))\n",
        "print()\n",
        "print(gcbs)"
      ],
      "execution_count": null,
      "outputs": []
    },
    {
      "cell_type": "markdown",
      "metadata": {
        "id": "wsdSfHATJDsi"
      },
      "source": [
        "Access the data in a column using either dictionary notation or dot notation:"
      ]
    },
    {
      "cell_type": "code",
      "metadata": {
        "id": "Bb6FwUXJJL2l"
      },
      "source": [
        "print(gcbs['Q1']) # Dictionary notation\n",
        "print()\n",
        "print(gcbs.Q1) # Dot notation"
      ],
      "execution_count": null,
      "outputs": []
    },
    {
      "cell_type": "markdown",
      "metadata": {
        "id": "sByikvRlWw2g"
      },
      "source": [
        " To select multiple columns, we use dictionary notation, but select using a list of strings rather than a single string:"
      ]
    },
    {
      "cell_type": "code",
      "metadata": {
        "id": "Si1TEGOTXNsB"
      },
      "source": [
        "print(gcbs[['age', 'Q1', 'Q2']])"
      ],
      "execution_count": null,
      "outputs": []
    },
    {
      "cell_type": "markdown",
      "metadata": {
        "id": "wrPp_UFLAA0m"
      },
      "source": [
        "We can compute the mean, standard deviation, median, and various other statistical quantities on the data in columns using dot notation:"
      ]
    },
    {
      "cell_type": "code",
      "metadata": {
        "id": "Kt4XZiELFuA3"
      },
      "source": [
        "print(gcbs[['Q1', 'Q2']].mean())"
      ],
      "execution_count": null,
      "outputs": []
    },
    {
      "cell_type": "markdown",
      "metadata": {
        "id": "6sLGfkZtI3-D"
      },
      "source": [
        "We can also group the data according to the values of one of the columns, and then compute these quantities for each group:"
      ]
    },
    {
      "cell_type": "code",
      "metadata": {
        "id": "Qxq71d_LGCTq"
      },
      "source": [
        "print(gcbs.groupby('age')[['Q1', 'Q2']].mean())\n",
        "print(type(gcbs.groupby('age')[['Q1', 'Q2']].mean()))"
      ],
      "execution_count": null,
      "outputs": []
    },
    {
      "cell_type": "markdown",
      "metadata": {
        "id": "27NgWd9vX_z_"
      },
      "source": [
        "To select a subset of rows, we use the following notation:\n",
        "\n",
        "`subset = dataframe[<condition>]`"
      ]
    },
    {
      "cell_type": "code",
      "metadata": {
        "id": "m5G4EhecYiwv"
      },
      "source": [
        "gcbs = gcbs[gcbs['age'] < 115]\n",
        "print(gcbs)\n",
        "\n",
        "by_age = gcbs.groupby('age').mean()\n",
        "print(by_age)"
      ],
      "execution_count": null,
      "outputs": []
    },
    {
      "cell_type": "markdown",
      "metadata": {
        "id": "FQ3NgZTRWJ7_"
      },
      "source": [
        "pandas also provides a convenient interface to Matplotlib:"
      ]
    },
    {
      "cell_type": "code",
      "metadata": {
        "id": "wpH_g1jXHt2W"
      },
      "source": [
        "by_age[['Q1', 'Q2', 'Q3']].plot()"
      ],
      "execution_count": null,
      "outputs": []
    },
    {
      "cell_type": "markdown",
      "metadata": {
        "id": "ibFnNx9wVsCj"
      },
      "source": [
        "It looks like the data is more variable among older participants. Maybe this is because there are fewer of them? Let's find out."
      ]
    },
    {
      "cell_type": "code",
      "metadata": {
        "id": "PIWPKcKkZeqk"
      },
      "source": [
        "gcbs['age'].hist(bins=30)"
      ],
      "execution_count": null,
      "outputs": []
    },
    {
      "cell_type": "markdown",
      "metadata": {
        "id": "8vDOhCqZamHX"
      },
      "source": [
        "### Statistics with SciPy's `stats` module"
      ]
    },
    {
      "cell_type": "markdown",
      "metadata": {
        "id": "Pg2jsXPUbOZd"
      },
      "source": [
        "SciPy contains a number of modules for various applications in science and engineering, such as signal processing and clustering algorithms. For now, we'll just look at the `stats` module, which contains, among other things, functions to perform various statistical tests."
      ]
    },
    {
      "cell_type": "code",
      "metadata": {
        "id": "fyWqDkOIb3v2"
      },
      "source": [
        "from scipy import stats"
      ],
      "execution_count": null,
      "outputs": []
    },
    {
      "cell_type": "markdown",
      "metadata": {
        "id": "U0urlUHm3qwQ"
      },
      "source": [
        "The above plot suggests that the average response to question 1 is higher than the average response to question 3. How would we test this? One way would be to do a t-test for related samples, the function for which is `ttest_rel`:"
      ]
    },
    {
      "cell_type": "code",
      "metadata": {
        "id": "T3QMun4C4KoD"
      },
      "source": [
        "print(stats.ttest_rel(gcbs.Q1, gcbs.Q3))"
      ],
      "execution_count": null,
      "outputs": []
    },
    {
      "cell_type": "markdown",
      "metadata": {
        "id": "sLgG5huo4P-B"
      },
      "source": [
        "However, because these scores are discrete rather than continuous, it's technically incorrect to do a t-test. Instead, we should do a Wilcoxon signed-rank test, which does not make any assumptions about the underlying distribution of the data:"
      ]
    },
    {
      "cell_type": "code",
      "metadata": {
        "id": "8nPVvq-z5_Sg"
      },
      "source": [
        "print(stats.wilcoxon(gcbs.Q1, gcbs.Q3))"
      ],
      "execution_count": null,
      "outputs": []
    },
    {
      "cell_type": "markdown",
      "metadata": {
        "id": "rMt1eyPd6CfV"
      },
      "source": [
        "We can also test for correlations:"
      ]
    },
    {
      "cell_type": "code",
      "metadata": {
        "id": "p-pxI1DT7zfR"
      },
      "source": [
        "print(stats.pearsonr(gcbs.Q1, gcbs.Q3))"
      ],
      "execution_count": null,
      "outputs": []
    },
    {
      "cell_type": "markdown",
      "metadata": {
        "id": "F-6xY4N-8Smx"
      },
      "source": [
        "However, again, the Pearson correlation assumes the data is normally distributed, which is not possible for these discrete questionnaire responses. To be technically correct, we can compute a Spearman correlation, which does not make this assumption:"
      ]
    },
    {
      "cell_type": "code",
      "metadata": {
        "id": "isAxDPfa7_Pc"
      },
      "source": [
        "print(stats.spearmanr(gcbs.Q1, gcbs.Q3))"
      ],
      "execution_count": null,
      "outputs": []
    },
    {
      "cell_type": "markdown",
      "source": [
        "### scikit-learn"
      ],
      "metadata": {
        "id": "DvnsU9vBLUWk"
      }
    },
    {
      "cell_type": "markdown",
      "source": [
        "scikit-learn is an important library widely used for machine learning. If you want to learn about it, come to my next workshop in 3 weeks! https://libcal.mcmaster.ca/event/3691279"
      ],
      "metadata": {
        "id": "fwpstnCnLbqV"
      }
    }
  ]
}